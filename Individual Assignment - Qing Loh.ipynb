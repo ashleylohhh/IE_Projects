{
 "cells": [
  {
   "cell_type": "markdown",
   "metadata": {},
   "source": [
    "# Spark Individual Assignment"
   ]
  },
  {
   "cell_type": "code",
   "execution_count": 17,
   "metadata": {},
   "outputs": [],
   "source": [
    "import findspark\n",
    "findspark.init()\n",
    "\n",
    "from pyspark.context import SparkContext\n",
    "from pyspark.sql.session import SparkSession\n",
    "\n",
    "sc = SparkContext.getOrCreate()\n",
    "spark = SparkSession(sc)\n",
    "\n",
    "from pyspark.sql.functions import sum"
   ]
  },
  {
   "cell_type": "code",
   "execution_count": 18,
   "metadata": {},
   "outputs": [],
   "source": [
    "hotelsDF = spark.read \\\n",
    "                 .option(\"inferSchema\", \"true\") \\\n",
    "                 .option(\"header\", \"true\") \\\n",
    "                 .csv(\"hotel_bookings.csv\")"
   ]
  },
  {
   "cell_type": "code",
   "execution_count": 19,
   "metadata": {},
   "outputs": [
    {
     "name": "stdout",
     "output_type": "stream",
     "text": [
      "root\n",
      " |-- hotel: string (nullable = true)\n",
      " |-- is_canceled: integer (nullable = true)\n",
      " |-- lead_time: integer (nullable = true)\n",
      " |-- arrival_date_year: integer (nullable = true)\n",
      " |-- arrival_date_month: string (nullable = true)\n",
      " |-- arrival_date_week_number: integer (nullable = true)\n",
      " |-- arrival_date_day_of_month: integer (nullable = true)\n",
      " |-- stays_in_weekend_nights: integer (nullable = true)\n",
      " |-- stays_in_week_nights: integer (nullable = true)\n",
      " |-- adults: integer (nullable = true)\n",
      " |-- children: string (nullable = true)\n",
      " |-- babies: integer (nullable = true)\n",
      " |-- meal: string (nullable = true)\n",
      " |-- country: string (nullable = true)\n",
      " |-- market_segment: string (nullable = true)\n",
      " |-- distribution_channel: string (nullable = true)\n",
      " |-- is_repeated_guest: integer (nullable = true)\n",
      " |-- previous_cancellations: integer (nullable = true)\n",
      " |-- previous_bookings_not_canceled: integer (nullable = true)\n",
      " |-- reserved_room_type: string (nullable = true)\n",
      " |-- assigned_room_type: string (nullable = true)\n",
      " |-- booking_changes: integer (nullable = true)\n",
      " |-- deposit_type: string (nullable = true)\n",
      " |-- agent: string (nullable = true)\n",
      " |-- company: string (nullable = true)\n",
      " |-- days_in_waiting_list: integer (nullable = true)\n",
      " |-- customer_type: string (nullable = true)\n",
      " |-- adr: double (nullable = true)\n",
      " |-- required_car_parking_spaces: integer (nullable = true)\n",
      " |-- total_of_special_requests: integer (nullable = true)\n",
      " |-- reservation_status: string (nullable = true)\n",
      " |-- reservation_status_date: string (nullable = true)\n",
      "\n"
     ]
    },
    {
     "data": {
      "text/markdown": [
       "This DataFrame has **119390 rows**."
      ],
      "text/plain": [
       "<IPython.core.display.Markdown object>"
      ]
     },
     "metadata": {},
     "output_type": "display_data"
    }
   ],
   "source": [
    "from IPython.display import display, Markdown\n",
    "\n",
    "hotelsDF.printSchema()\n",
    "display(Markdown(\"This DataFrame has **%d rows**.\" % hotelsDF.count()))"
   ]
  },
  {
   "cell_type": "code",
   "execution_count": 20,
   "metadata": {},
   "outputs": [
    {
     "data": {
      "text/plain": [
       "[Row(hotel='Resort Hotel', is_canceled=0, lead_time=37, arrival_date_year=2015, arrival_date_month='July', arrival_date_week_number=27, arrival_date_day_of_month=1, stays_in_weekend_nights=0, stays_in_week_nights=4, adults=2, children='0', babies=0, meal='BB', country='PRT', market_segment='Offline TA/TO', distribution_channel='TA/TO', is_repeated_guest=0, previous_cancellations=0, previous_bookings_not_canceled=0, reserved_room_type='E', assigned_room_type='E', booking_changes=0, deposit_type='No Deposit', agent='8', company='NULL', days_in_waiting_list=0, customer_type='Contract', adr=97.5, required_car_parking_spaces=0, total_of_special_requests=0, reservation_status='Check-Out', reservation_status_date='2015-07-05'),\n",
       " Row(hotel='Resort Hotel', is_canceled=0, lead_time=72, arrival_date_year=2015, arrival_date_month='July', arrival_date_week_number=27, arrival_date_day_of_month=1, stays_in_weekend_nights=2, stays_in_week_nights=4, adults=2, children='0', babies=0, meal='BB', country='PRT', market_segment='Direct', distribution_channel='Direct', is_repeated_guest=0, previous_cancellations=0, previous_bookings_not_canceled=0, reserved_room_type='D', assigned_room_type='D', booking_changes=1, deposit_type='No Deposit', agent='250', company='NULL', days_in_waiting_list=0, customer_type='Transient', adr=99.67, required_car_parking_spaces=0, total_of_special_requests=1, reservation_status='Check-Out', reservation_status_date='2015-07-07')]"
      ]
     },
     "execution_count": 20,
     "metadata": {},
     "output_type": "execute_result"
    }
   ],
   "source": [
    "hotelsDF.cache() # optimization to make the processing faster\n",
    "hotelsDF.sample(False, 0.1).take(2)"
   ]
  },
  {
   "cell_type": "markdown",
   "metadata": {},
   "source": [
    "### Data entities, metrics and dimensions\n",
    "\n",
    "I've identified the following elements:\n",
    "\n",
    "* **Entities:** Resort Hotel and City Hotel\n",
    "* **Metrics:** Total number of bookings, Cancellation Rate\n",
    "* **Dimensions:** New vs. Old Customers, Children vs. No children...\n",
    "\n",
    "### Column categorization\n",
    "\n",
    "The following could be a potential column categorization:\n",
    "\n",
    "* **Timing related columns:** *arrival_date_year*, *arrival_date_month*, *arrival_date_week_number*, *arrival_date_day_of_month*, *lead_time*\n",
    "* **Guest related columns:** *is_repeated_guest*, *company*, *babies*, *children*, *deposit_type*, *customer_type*, *booking_changes*\n",
    "* **Issue related columns:** *is_cancelled*\n",
    "\n",
    "## Columns groups basic profiling to better understand our data set\n",
    "### A. Timing related columns basic profiling"
   ]
  },
  {
   "cell_type": "code",
   "execution_count": 21,
   "metadata": {},
   "outputs": [
    {
     "name": "stdout",
     "output_type": "stream",
     "text": [
      "Summary of columns arrival_date_year, arrival_date_month, arrival_date_day_of_month, arrival_date_week_number, lead_time:\n",
      "+-------+------------------+------------------+-------------------------+------------------------+------------------+\n",
      "|summary| arrival_date_year|arrival_date_month|arrival_date_day_of_month|arrival_date_week_number|         lead_time|\n",
      "+-------+------------------+------------------+-------------------------+------------------------+------------------+\n",
      "|  count|            119390|            119390|                   119390|                  119390|            119390|\n",
      "|   mean| 2016.156554150264|              null|       15.798241058715135|       27.16517296255968|104.01141636652986|\n",
      "| stddev|0.7074759445220408|              null|        8.780829470578343|      13.605138355497665| 106.8630970479881|\n",
      "|    min|              2015|             April|                        1|                       1|                 0|\n",
      "|    25%|              2016|              null|                        8|                      16|                18|\n",
      "|    50%|              2016|              null|                       16|                      28|                69|\n",
      "|    75%|              2017|              null|                       23|                      38|               160|\n",
      "|    max|              2017|         September|                       31|                      53|               737|\n",
      "+-------+------------------+------------------+-------------------------+------------------------+------------------+\n",
      "\n",
      "Checking for nulls on columns arrival_date_year, arrival_date_month, arrival_date_day_of_month, arrival_date_week_number, lead_time:\n",
      "+-----------------+------------------+-------------------------+------------------------+---------+\n",
      "|arrival_date_year|arrival_date_month|arrival_date_day_of_month|arrival_date_week_number|lead_time|\n",
      "+-----------------+------------------+-------------------------+------------------------+---------+\n",
      "|                0|                 0|                        0|                       0|        0|\n",
      "+-----------------+------------------+-------------------------+------------------------+---------+\n",
      "\n",
      "Checking amount of distinct values in columns arrival_date_year, arrival_date_month, arrival_date_day_of_month, arrival_date_week_number, lead_time:\n",
      "+-----------------+------------------+-------------------------+------------------------+---------+\n",
      "|arrival_date_year|arrival_date_month|arrival_date_day_of_month|arrival_date_week_number|lead_time|\n",
      "+-----------------+------------------+-------------------------+------------------------+---------+\n",
      "|                3|                12|                       31|                      53|      479|\n",
      "+-----------------+------------------+-------------------------+------------------------+---------+\n",
      "\n",
      "Most and least frequent occurrences for arrival_date_day_of_month and arrival_date_week_number columns:\n"
     ]
    },
    {
     "data": {
      "text/markdown": [
       "\n",
       "| leastFreqDayOfMonth | mostFreqDayOfMonth | leastFreqWeekNumber | mostFreqWeekNumber |\n",
       "|----|----|----|----|\n",
       "| 31 (2208 occurrences) | 17 (4406 occurrences) | 51 (933 occurrences) | 33 (3580 occurrences) |\n"
      ],
      "text/plain": [
       "<IPython.core.display.Markdown object>"
      ]
     },
     "metadata": {},
     "output_type": "display_data"
    }
   ],
   "source": [
    "from IPython.display import display, Markdown\n",
    "from pyspark.sql.functions import when, count, col, countDistinct, desc, first, lit\n",
    "\n",
    "\n",
    "print (\"Summary of columns arrival_date_year, arrival_date_month, arrival_date_day_of_month, arrival_date_week_number, lead_time:\")\n",
    "hotelsDF.select(\"arrival_date_year\",\"arrival_date_month\",\"arrival_date_day_of_month\",\"arrival_date_week_number\", \"lead_time\").summary().show()\n",
    "\n",
    "print(\"Checking for nulls on columns arrival_date_year, arrival_date_month, arrival_date_day_of_month, arrival_date_week_number, lead_time:\")\n",
    "hotelsDF.select([count(when(col(c).isNull(), c)).alias(c) for c in [\"arrival_date_year\",\"arrival_date_month\",\"arrival_date_day_of_month\",\"arrival_date_week_number\", \"lead_time\"]]).show()\n",
    "\n",
    "print(\"Checking amount of distinct values in columns arrival_date_year, arrival_date_month, arrival_date_day_of_month, arrival_date_week_number, lead_time:\")\n",
    "hotelsDF.select([countDistinct(c).alias(c) for c in [\"arrival_date_year\",\"arrival_date_month\",\"arrival_date_day_of_month\",\"arrival_date_week_number\", \"lead_time\"]]).show()\n",
    "\n",
    "print (\"Most and least frequent occurrences for arrival_date_day_of_month and arrival_date_week_number columns:\")\n",
    "dayofMonthOccurrencesDF = hotelsDF.groupBy(\"arrival_date_day_of_month\").agg(count(lit(1)).alias(\"Total\"))\n",
    "weekNumberDF = hotelsDF.groupBy(\"arrival_date_week_number\").agg(count(lit(1)).alias(\"Total\"))\n",
    "\n",
    "leastFreqDayOfMonth    = dayofMonthOccurrencesDF.orderBy(col(\"Total\").asc()).first()\n",
    "mostFreqDayOfMonth     = dayofMonthOccurrencesDF.orderBy(col(\"Total\").desc()).first()\n",
    "leastFreqWeek     = weekNumberDF.orderBy(col(\"Total\").asc()).first()\n",
    "mostFreqWeek      = weekNumberDF.orderBy(col(\"Total\").desc()).first()\n",
    "\n",
    "display(Markdown(\"\"\"\n",
    "| %s | %s | %s | %s |\n",
    "|----|----|----|----|\n",
    "| %s | %s | %s | %s |\n",
    "\"\"\" % (\"leastFreqDayOfMonth\", \"mostFreqDayOfMonth\", \"leastFreqWeekNumber\", \"mostFreqWeekNumber\", \\\n",
    "       \"%d (%d occurrences)\" % (leastFreqDayOfMonth[\"arrival_date_day_of_month\"], leastFreqDayOfMonth[\"Total\"]), \\\n",
    "       \"%d (%d occurrences)\" % (mostFreqDayOfMonth[\"arrival_date_day_of_month\"], mostFreqDayOfMonth[\"Total\"]), \\\n",
    "       \"%d (%d occurrences)\" % (leastFreqWeek[\"arrival_date_week_number\"], leastFreqWeek[\"Total\"]), \\\n",
    "       \"%d (%d occurrences)\" % (mostFreqWeek[\"arrival_date_week_number\"], mostFreqWeek[\"Total\"]))))"
   ]
  },
  {
   "cell_type": "markdown",
   "metadata": {},
   "source": [
    "### B. Guest related columns basic profiling"
   ]
  },
  {
   "cell_type": "code",
   "execution_count": 22,
   "metadata": {},
   "outputs": [
    {
     "name": "stdout",
     "output_type": "stream",
     "text": [
      "Summary of columns is_repeated_guest, company, babies, children, deposit_type, country, is_canceled:\n",
      "+-------+-------------------+------------------+--------------------+-------------------+------------+-------+-------------------+\n",
      "|summary|  is_repeated_guest|           company|              babies|           children|deposit_type|country|        is_canceled|\n",
      "+-------+-------------------+------------------+--------------------+-------------------+------------+-------+-------------------+\n",
      "|  count|             119390|            119390|              119390|             119390|      119390| 119390|             119390|\n",
      "|   mean|0.03191222045397437|189.26673532440782|0.007948739425412514|0.10388990333874994|        null|   null|0.37041628277075134|\n",
      "| stddev|0.17576714541065672| 131.6550146385122|  0.0974361913012642| 0.3985614447864427|        null|   null|0.48291822659259803|\n",
      "|    min|                  0|                10|                   0|                  0|  No Deposit|    ABW|                  0|\n",
      "|    25%|                  0|              62.0|                   0|                0.0|        null|   null|                  0|\n",
      "|    50%|                  0|             179.0|                   0|                0.0|        null|   null|                  0|\n",
      "|    75%|                  0|             270.0|                   0|                0.0|        null|   null|                  1|\n",
      "|    max|                  1|              NULL|                  10|                 NA|  Refundable|    ZWE|                  1|\n",
      "+-------+-------------------+------------------+--------------------+-------------------+------------+-------+-------------------+\n",
      "\n",
      "Checking for nulls on columns is_repeated_guest, company, babies, children, deposit_type, country, is_canceled:\n",
      "+-----------------+-------+------+--------+------------+-------+-----------+\n",
      "|is_repeated_guest|company|babies|children|deposit_type|country|is_canceled|\n",
      "+-----------------+-------+------+--------+------------+-------+-----------+\n",
      "|                0|      0|     0|       0|           0|      0|          0|\n",
      "+-----------------+-------+------+--------+------------+-------+-----------+\n",
      "\n",
      "Checking amount of distinct values in columns is_repeated_guest, company, babies, children, deposit_type, country, is_canceled:\n",
      "+-----------------+-------+------+--------+------------+-------+-----------+\n",
      "|is_repeated_guest|company|babies|children|deposit_type|country|is_canceled|\n",
      "+-----------------+-------+------+--------+------------+-------+-----------+\n",
      "|                2|    353|     5|       6|           3|    178|          2|\n",
      "+-----------------+-------+------+--------+------------+-------+-----------+\n",
      "\n"
     ]
    }
   ],
   "source": [
    "from IPython.display import display, Markdown\n",
    "from pyspark.sql.functions import when, count, col, countDistinct, desc, first\n",
    "\n",
    "print (\"Summary of columns is_repeated_guest, company, babies, children, deposit_type, country, is_canceled:\")\n",
    "hotelsDF.select(\"is_repeated_guest\", \"company\", \"babies\", \"children\", \"deposit_type\", \"country\", \"is_canceled\").summary().show()\n",
    "\n",
    "print(\"Checking for nulls on columns is_repeated_guest, company, babies, children, deposit_type, country, is_canceled:\")\n",
    "hotelsDF.select([count(when(col(c).isNull(), c)).alias(c) for c in [\"is_repeated_guest\", \"company\", \"babies\", \"children\", \"deposit_type\", \"country\", \"is_canceled\"]]).show()\n",
    "\n",
    "print(\"Checking amount of distinct values in columns is_repeated_guest, company, babies, children, deposit_type, country, is_canceled:\")\n",
    "hotelsDF.select([countDistinct(c).alias(c) for c in [\"is_repeated_guest\", \"company\", \"babies\", \"children\", \"deposit_type\", \"country\", \"is_canceled\"]]).show()"
   ]
  },
  {
   "cell_type": "markdown",
   "metadata": {},
   "source": [
    "## Overall Analysis"
   ]
  },
  {
   "cell_type": "code",
   "execution_count": 23,
   "metadata": {},
   "outputs": [
    {
     "name": "stdout",
     "output_type": "stream",
     "text": [
      "+-----------------+--------+------------+-------------+------------+------------------+\n",
      "|arrival_date_year|Bookings|RoundedRatio|Cancellations|RoundedRatio|Cancellation Ratio|\n",
      "+-----------------+--------+------------+-------------+------------+------------------+\n",
      "|             2015|   21996|       18.42|         8142|        6.82|             37.02|\n",
      "|             2016|   56707|        47.5|        20337|       17.03|             35.86|\n",
      "|             2017|   40687|       34.08|        15745|       13.19|              38.7|\n",
      "+-----------------+--------+------------+-------------+------------+------------------+\n",
      "\n",
      "+-----------------+--------+-------------+------------------+\n",
      "|arrival_date_year|Bookings|Cancellations|Cancellation Ratio|\n",
      "+-----------------+--------+-------------+------------------+\n",
      "|             2015|   21996|         8142|             37.02|\n",
      "|             2016|   56707|        20337|             35.86|\n",
      "|             2017|   40687|        15745|              38.7|\n",
      "+-----------------+--------+-------------+------------------+\n",
      "\n"
     ]
    }
   ],
   "source": [
    "from pyspark.sql.functions import count, round\n",
    "\n",
    "totalbookings = hotelsDF.count()\n",
    "\n",
    "BookingbyYear = hotelsDF.select(\"arrival_date_year\")\\\n",
    ".groupBy(\"arrival_date_year\")\\\n",
    ".agg(count(lit(1)).alias(\"Bookings\"), \\\n",
    "     (count(lit(1))/totalbookings*100).alias(\"Ratio\"))\\\n",
    ".orderBy(col(\"arrival_date_year\"))\\\n",
    "     .select(\"arrival_date_year\",\"Bookings\",round(\"Ratio\",2).alias(\"RoundedRatio\"))\n",
    "\n",
    "CancellationbyYear = hotelsDF.where(col(\"is_canceled\")==1)\\\n",
    ".select(\"arrival_date_year\")\\\n",
    ".groupBy(\"arrival_date_year\")\\\n",
    ".agg(count(lit(1)).alias(\"Cancellations\"), \\\n",
    "     (count(lit(1))/totalbookings*100).alias(\"Ratio\"))\\\n",
    ".orderBy(col(\"arrival_date_year\"))\\\n",
    "     .select(\"arrival_date_year\",\"Cancellations\",round(\"Ratio\",2).alias(\"RoundedRatio\"))\n",
    "\n",
    "BookingbyYear\\\n",
    ".join(CancellationbyYear, \"arrival_date_year\")\\\n",
    ".withColumn(\"Cancellation Ratio\", round(col(\"Cancellations\")/col(\"Bookings\")*100,2))\\\n",
    ".orderBy(col(\"arrival_date_year\")).show()\n",
    "\n",
    "# Improved code without needing to join\n",
    "hotelsDF.select(\"arrival_date_year\",\"is_canceled\")\\\n",
    ".groupBy(\"arrival_date_year\")\\\n",
    ".agg(count(lit(1)).alias(\"Bookings\"), \\\n",
    "     sum(\"is_canceled\").alias(\"Cancellations\"))\\\n",
    ".withColumn(\"Cancellation Ratio\", round(col(\"Cancellations\")/col(\"Bookings\")*100,2))\\\n",
    ".orderBy(col(\"arrival_date_year\"))\\\n",
    "     .select(\"arrival_date_year\",\"Bookings\",\"Cancellations\", \"Cancellation Ratio\").show()"
   ]
  },
  {
   "cell_type": "markdown",
   "metadata": {},
   "source": [
    "## Overall Cancellation Rate"
   ]
  },
  {
   "cell_type": "code",
   "execution_count": 24,
   "metadata": {},
   "outputs": [
    {
     "name": "stdout",
     "output_type": "stream",
     "text": [
      "+------------------+-----+------------+\n",
      "|reservation_status|Count|RoundedRatio|\n",
      "+------------------+-----+------------+\n",
      "|          Canceled|43017|       36.03|\n",
      "|         Check-Out|75166|       62.96|\n",
      "|           No-Show| 1207|        1.01|\n",
      "+------------------+-----+------------+\n",
      "\n"
     ]
    }
   ],
   "source": [
    "from pyspark.sql.functions import count, round\n",
    "\n",
    "cancelledDF = hotelsDF\\\n",
    "   .withColumn(\"Status\", when(col(\"is_canceled\")==1,\"Cancelled\")\\\n",
    "                               .otherwise(\"Not Cancelled\"))\n",
    "\n",
    "hotelsDF.select(\"reservation_status\")\\\n",
    ".groupBy(\"reservation_status\")\\\n",
    ".agg(count(\"reservation_status\").alias(\"Count\"), \\\n",
    "     (count(\"reservation_status\")/totalbookings*100).alias(\"Ratio\"))\\\n",
    ".orderBy(\"reservation_status\")\\\n",
    "     .select(\"reservation_status\",\"Count\",round(\"Ratio\",2).alias(\"RoundedRatio\")).show()"
   ]
  },
  {
   "cell_type": "markdown",
   "metadata": {},
   "source": [
    "## Ratio of reservation cancellation by resort vs. city"
   ]
  },
  {
   "cell_type": "code",
   "execution_count": 25,
   "metadata": {},
   "outputs": [
    {
     "data": {
      "text/markdown": [
       "**'Number and Ratio of cancellations, City vs. Resort hotel:"
      ],
      "text/plain": [
       "<IPython.core.display.Markdown object>"
      ]
     },
     "metadata": {},
     "output_type": "display_data"
    },
    {
     "name": "stdout",
     "output_type": "stream",
     "text": [
      "+------------+--------+------------+-------------+------------+------------------+\n",
      "|       hotel|Bookings|RoundedRatio|Cancellations|RoundedRatio|Cancellation Ratio|\n",
      "+------------+--------+------------+-------------+------------+------------------+\n",
      "|  City Hotel|   79330|       66.45|        33102|       74.85|             41.73|\n",
      "|Resort Hotel|   40060|       33.55|        11122|       25.15|             27.76|\n",
      "+------------+--------+------------+-------------+------------+------------------+\n",
      "\n",
      "+------------+--------+-------------+------------------+\n",
      "|       hotel|Bookings|Cancellations|Cancellation Ratio|\n",
      "+------------+--------+-------------+------------------+\n",
      "|  City Hotel|   79330|        33102|             41.73|\n",
      "|Resort Hotel|   40060|        11122|             27.76|\n",
      "+------------+--------+-------------+------------------+\n",
      "\n"
     ]
    }
   ],
   "source": [
    "totalcancelled = hotelsDF.where(col('is_canceled') == 1).count()\n",
    "\n",
    "display(Markdown(\"**'Number and Ratio of cancellations, City vs. Resort hotel:\"))\n",
    "\n",
    "HotelTypeCancellation = hotelsDF.where(col(\"is_canceled\")==1)\\\n",
    ".select(\"hotel\")\\\n",
    ".groupBy(\"hotel\")\\\n",
    ".agg(count(\"hotel\").alias(\"Cancellations\"), \\\n",
    "     (count(\"hotel\")/totalcancelled*100).alias(\"Ratio\"))\\\n",
    "     .select(\"hotel\",\"Cancellations\",round(\"Ratio\",2).alias(\"RoundedRatio\"))\n",
    "\n",
    "HotelTypeBooking = hotelsDF\\\n",
    ".select(\"hotel\")\\\n",
    ".groupBy(\"hotel\")\\\n",
    ".agg(count(\"hotel\").alias(\"Bookings\"), \\\n",
    "     (count(\"hotel\")/totalbookings*100).alias(\"Ratio\"))\\\n",
    "     .select(\"hotel\",\"Bookings\",round(\"Ratio\",2).alias(\"RoundedRatio\"))\n",
    "\n",
    "HotelTypeBooking\\\n",
    ".join(HotelTypeCancellation, \"hotel\")\\\n",
    ".withColumn(\"Cancellation Ratio\", round(col(\"Cancellations\")/col(\"Bookings\")*100,2))\\\n",
    ".orderBy(col(\"hotel\")).show()\n",
    "\n",
    "#Improved code without needing to join\n",
    "hotelsDF.select(\"hotel\", \"is_canceled\")\\\n",
    ".groupby(\"hotel\")\\\n",
    ".agg(count(lit(1)).alias(\"Bookings\"),\\\n",
    "    sum(\"is_canceled\").alias(\"Cancellations\"))\\\n",
    ".withColumn(\"Cancellation Ratio\", round(col(\"Cancellations\")/col(\"Bookings\")*100,2))\\\n",
    ".orderBy(col(\"Cancellation Ratio\").desc())\\\n",
    "     .select(\"hotel\",\"Bookings\",\"Cancellations\", \"Cancellation Ratio\").show()"
   ]
  },
  {
   "cell_type": "markdown",
   "metadata": {},
   "source": [
    "## Cancellation Analysis - City Hotel"
   ]
  },
  {
   "cell_type": "code",
   "execution_count": 26,
   "metadata": {},
   "outputs": [
    {
     "name": "stdout",
     "output_type": "stream",
     "text": [
      "+-------+-----+------------+\n",
      "|country|Count|RoundedRatio|\n",
      "+-------+-----+------------+\n",
      "|    POL|  215|        0.49|\n",
      "|    LVA|    9|        0.02|\n",
      "|    ZMB|    1|         0.0|\n",
      "|    BRA|  830|        1.88|\n",
      "|    ARM|    2|         0.0|\n",
      "|    MOZ|   19|        0.04|\n",
      "|    JOR|    3|        0.01|\n",
      "|    FRA| 1934|        4.37|\n",
      "|    URY|    9|        0.02|\n",
      "|    GIB|   11|        0.02|\n",
      "|    ETH|    1|         0.0|\n",
      "|     CN|  254|        0.57|\n",
      "|    ITA| 1333|        3.01|\n",
      "|    UKR|   20|        0.05|\n",
      "|    GHA|    2|         0.0|\n",
      "|    SEN|    8|        0.02|\n",
      "|    HRV|   25|        0.06|\n",
      "|    QAT|   11|        0.02|\n",
      "|    GBR| 2453|        5.55|\n",
      "|    ARE|   43|         0.1|\n",
      "+-------+-----+------------+\n",
      "only showing top 20 rows\n",
      "\n"
     ]
    }
   ],
   "source": [
    "hotelsDF.where(col(\"is_canceled\")==1)\\\n",
    ".select(\"country\")\\\n",
    ".groupBy(\"country\")\\\n",
    ".agg(count(\"country\").alias(\"Count\"), \\\n",
    "     (count(\"country\")/totalcancelled*100).alias(\"Ratio\"))\\\n",
    "     .select(\"country\",\"Count\",round(\"Ratio\",2).alias(\"RoundedRatio\")).show()"
   ]
  },
  {
   "cell_type": "code",
   "execution_count": 27,
   "metadata": {},
   "outputs": [
    {
     "name": "stdout",
     "output_type": "stream",
     "text": [
      "+-------------------+-------+-------+------------+-------------+--------+--------------------+-------------------+-----------+---------------+------------------------+\n",
      "|               name|alpha-2|alpha-3|country-code|   iso_3166-2|  region|          sub-region|intermediate-region|region-code|sub-region-code|intermediate-region-code|\n",
      "+-------------------+-------+-------+------------+-------------+--------+--------------------+-------------------+-----------+---------------+------------------------+\n",
      "|        Afghanistan|     AF|    AFG|           4|ISO 3166-2:AF|    Asia|       Southern Asia|               null|        142|             34|                    null|\n",
      "|      Åland Islands|     AX|    ALA|         248|ISO 3166-2:AX|  Europe|     Northern Europe|               null|        150|            154|                    null|\n",
      "|            Albania|     AL|    ALB|           8|ISO 3166-2:AL|  Europe|     Southern Europe|               null|        150|             39|                    null|\n",
      "|            Algeria|     DZ|    DZA|          12|ISO 3166-2:DZ|  Africa|     Northern Africa|               null|          2|             15|                    null|\n",
      "|     American Samoa|     AS|    ASM|          16|ISO 3166-2:AS| Oceania|           Polynesia|               null|          9|             61|                    null|\n",
      "|            Andorra|     AD|    AND|          20|ISO 3166-2:AD|  Europe|     Southern Europe|               null|        150|             39|                    null|\n",
      "|             Angola|     AO|    AGO|          24|ISO 3166-2:AO|  Africa|  Sub-Saharan Africa|      Middle Africa|          2|            202|                      17|\n",
      "|           Anguilla|     AI|    AIA|         660|ISO 3166-2:AI|Americas|Latin America and...|          Caribbean|         19|            419|                      29|\n",
      "|         Antarctica|     AQ|    ATA|          10|ISO 3166-2:AQ|    null|                null|               null|       null|           null|                    null|\n",
      "|Antigua and Barbuda|     AG|    ATG|          28|ISO 3166-2:AG|Americas|Latin America and...|          Caribbean|         19|            419|                      29|\n",
      "|          Argentina|     AR|    ARG|          32|ISO 3166-2:AR|Americas|Latin America and...|      South America|         19|            419|                       5|\n",
      "|            Armenia|     AM|    ARM|          51|ISO 3166-2:AM|    Asia|        Western Asia|               null|        142|            145|                    null|\n",
      "|              Aruba|     AW|    ABW|         533|ISO 3166-2:AW|Americas|Latin America and...|          Caribbean|         19|            419|                      29|\n",
      "|          Australia|     AU|    AUS|          36|ISO 3166-2:AU| Oceania|Australia and New...|               null|          9|             53|                    null|\n",
      "|            Austria|     AT|    AUT|          40|ISO 3166-2:AT|  Europe|      Western Europe|               null|        150|            155|                    null|\n",
      "|         Azerbaijan|     AZ|    AZE|          31|ISO 3166-2:AZ|    Asia|        Western Asia|               null|        142|            145|                    null|\n",
      "|            Bahamas|     BS|    BHS|          44|ISO 3166-2:BS|Americas|Latin America and...|          Caribbean|         19|            419|                      29|\n",
      "|            Bahrain|     BH|    BHR|          48|ISO 3166-2:BH|    Asia|        Western Asia|               null|        142|            145|                    null|\n",
      "|         Bangladesh|     BD|    BGD|          50|ISO 3166-2:BD|    Asia|       Southern Asia|               null|        142|             34|                    null|\n",
      "|           Barbados|     BB|    BRB|          52|ISO 3166-2:BB|Americas|Latin America and...|          Caribbean|         19|            419|                      29|\n",
      "+-------------------+-------+-------+------------+-------------+--------+--------------------+-------------------+-----------+---------------+------------------------+\n",
      "only showing top 20 rows\n",
      "\n"
     ]
    }
   ],
   "source": [
    "countriesDF = spark.read \\\n",
    "                 .option(\"inferSchema\", \"true\") \\\n",
    "                 .option(\"header\", \"true\") \\\n",
    "                 .csv(\"CountryMapping.csv\")\n",
    "\n",
    "countriesDF.show()"
   ]
  },
  {
   "cell_type": "code",
   "execution_count": 28,
   "metadata": {},
   "outputs": [
    {
     "data": {
      "text/markdown": [
       "Number of cancellations ratio per region:"
      ],
      "text/plain": [
       "<IPython.core.display.Markdown object>"
      ]
     },
     "metadata": {},
     "output_type": "display_data"
    },
    {
     "name": "stdout",
     "output_type": "stream",
     "text": [
      "+--------+-------------+------------------+------------------+\n",
      "|  region|Booking Count|Cancellation Count|Cancellation Ratio|\n",
      "+--------+-------------+------------------+------------------+\n",
      "|  Africa|          940|               418|             44.47|\n",
      "|  Europe|        70649|             29980|             42.44|\n",
      "|    Asia|         2805|              1132|             40.36|\n",
      "|Americas|         3934|              1292|             32.84|\n",
      "| Oceania|          404|                99|              24.5|\n",
      "+--------+-------------+------------------+------------------+\n",
      "\n",
      "+--------+--------+-------------+------------------+\n",
      "|  region|Bookings|Cancellations|Cancellation Ratio|\n",
      "+--------+--------+-------------+------------------+\n",
      "|  Europe|   70649|        29980|             42.44|\n",
      "|Americas|    3934|         1292|             32.84|\n",
      "|    Asia|    2805|         1132|             40.36|\n",
      "|  Africa|     940|          418|             44.47|\n",
      "| Oceania|     404|           99|              24.5|\n",
      "+--------+--------+-------------+------------------+\n",
      "\n"
     ]
    }
   ],
   "source": [
    "countriesDF = countriesDF.withColumnRenamed(\"alpha-3\", \"alpha3\")\n",
    "\n",
    "combinedDF = \\\n",
    "  hotelsDF\\\n",
    "     .join(countriesDF, hotelsDF.country == countriesDF.alpha3)\\\n",
    "\n",
    "combinedDF.cache()\n",
    "\n",
    "BookingbyRegion = combinedDF.where(col(\"hotel\") == \"City Hotel\")\\\n",
    ".select(\"region\")\\\n",
    ".groupBy(\"region\")\\\n",
    ".agg(count(\"region\").alias(\"Booking Count\")) \\\n",
    ".orderBy(col(\"Booking Count\").desc())\\\n",
    "     .select(\"region\",\"Booking Count\")\n",
    "\n",
    "CancellationbyRegion = combinedDF.where((col(\"is_canceled\")==1) & (col(\"hotel\") == \"City Hotel\"))\\\n",
    ".select(\"region\")\\\n",
    ".groupBy(\"region\")\\\n",
    ".agg(count(\"region\").alias(\"Cancellation Count\")) \\\n",
    ".orderBy(col(\"Cancellation Count\").desc())\\\n",
    "     .select(\"region\",\"Cancellation Count\")\n",
    "\n",
    "display(Markdown(\"Number of cancellations ratio per region:\"))\n",
    "BookingbyRegion\\\n",
    ".join(CancellationbyRegion, \"region\")\\\n",
    ".withColumn(\"Cancellation Ratio\", round(col(\"Cancellation Count\")/col(\"Booking Count\")*100,2))\\\n",
    ".orderBy(col(\"Cancellation Ratio\").desc()).show()\n",
    "\n",
    "# Improved code without needing to join\n",
    "combinedDF.where((col(\"hotel\") == \"City Hotel\") & col(\"region\").isNotNull())\\\n",
    ".select(\"region\", \"is_canceled\")\\\n",
    ".groupby(\"region\")\\\n",
    ".agg(count(lit(1)).alias(\"Bookings\"),\\\n",
    "    sum(\"is_canceled\").alias(\"Cancellations\"))\\\n",
    ".withColumn(\"Cancellation Ratio\", round(col(\"Cancellations\")/col(\"Bookings\")*100,2))\\\n",
    ".orderBy(col(\"Bookings\").desc())\\\n",
    "     .select(\"region\",\"Bookings\",\"Cancellations\", \"Cancellation Ratio\").show()"
   ]
  },
  {
   "cell_type": "code",
   "execution_count": 29,
   "metadata": {},
   "outputs": [
    {
     "data": {
      "text/markdown": [
       "Number of cancellations based on how much in advance the booking was made:"
      ],
      "text/plain": [
       "<IPython.core.display.Markdown object>"
      ]
     },
     "metadata": {},
     "output_type": "display_data"
    },
    {
     "name": "stdout",
     "output_type": "stream",
     "text": [
      "+----------------+-------------+-----+\n",
      "|    booking_time|Cancellations|Ratio|\n",
      "+----------------+-------------+-----+\n",
      "| Within 3 Months|        12180| 36.8|\n",
      "|   Within 1 Year|         8934|26.99|\n",
      "| Within 6 Months|         8746|26.42|\n",
      "|More than 1 Year|         1923| 5.81|\n",
      "|   Within 1 Week|         1319| 3.98|\n",
      "+----------------+-------------+-----+\n",
      "\n",
      "+----------------+--------+-------------+------------------+\n",
      "|    booking_time|Bookings|Cancellations|Cancellation Ratio|\n",
      "+----------------+--------+-------------+------------------+\n",
      "|More than 1 Year|    2704|         1923|             71.12|\n",
      "|   Within 1 Year|   14244|         8934|             62.72|\n",
      "| Within 6 Months|   18223|         8746|             47.99|\n",
      "| Within 3 Months|   33351|        12180|             36.52|\n",
      "|   Within 1 Week|   10808|         1319|              12.2|\n",
      "+----------------+--------+-------------+------------------+\n",
      "\n"
     ]
    },
    {
     "data": {
      "text/markdown": [
       "Number of cancellations based on deposit type:"
      ],
      "text/plain": [
       "<IPython.core.display.Markdown object>"
      ]
     },
     "metadata": {},
     "output_type": "display_data"
    },
    {
     "name": "stdout",
     "output_type": "stream",
     "text": [
      "+------------+-------------+-----+\n",
      "|deposit_type|Cancellations|Ratio|\n",
      "+------------+-------------+-----+\n",
      "|  No Deposit|        20244|61.16|\n",
      "|  Non Refund|        12844| 38.8|\n",
      "|  Refundable|           14| 0.04|\n",
      "+------------+-------------+-----+\n",
      "\n",
      "+------------+--------+-------------+------------------+\n",
      "|deposit_type|Bookings|Cancellations|Cancellation Ratio|\n",
      "+------------+--------+-------------+------------------+\n",
      "|  Non Refund|   12868|        12844|             99.81|\n",
      "|  Refundable|      20|           14|              70.0|\n",
      "|  No Deposit|   66442|        20244|             30.47|\n",
      "+------------+--------+-------------+------------------+\n",
      "\n"
     ]
    },
    {
     "data": {
      "text/markdown": [
       "Number of cancellations, new vs. returning customer:"
      ],
      "text/plain": [
       "<IPython.core.display.Markdown object>"
      ]
     },
     "metadata": {},
     "output_type": "display_data"
    },
    {
     "name": "stdout",
     "output_type": "stream",
     "text": [
      "+------------------+-----+-----+\n",
      "|     Customer Type|Count|Ratio|\n",
      "+------------------+-----+-----+\n",
      "|      New Customer|32661|98.67|\n",
      "|Returning Customer|  441| 1.33|\n",
      "+------------------+-----+-----+\n",
      "\n",
      "+------------------+--------+-------------+------------------+\n",
      "|     Customer Type|Bookings|Cancellations|Cancellation Ratio|\n",
      "+------------------+--------+-------------+------------------+\n",
      "|      New Customer|   77298|        32661|             42.25|\n",
      "|Returning Customer|    2032|          441|              21.7|\n",
      "+------------------+--------+-------------+------------------+\n",
      "\n"
     ]
    },
    {
     "data": {
      "text/markdown": [
       "Number of cancellations, traveling for leisure vs. work:"
      ],
      "text/plain": [
       "<IPython.core.display.Markdown object>"
      ]
     },
     "metadata": {},
     "output_type": "display_data"
    },
    {
     "name": "stdout",
     "output_type": "stream",
     "text": [
      "+--------------+-----+-----+\n",
      "|Booking Reason|Count|Ratio|\n",
      "+--------------+-----+-----+\n",
      "|      Personal|32318|97.63|\n",
      "|          Work|  784| 2.37|\n",
      "+--------------+-----+-----+\n",
      "\n",
      "+--------------+--------+-------------+------------------+\n",
      "|Booking Reason|Bookings|Cancellations|Cancellation Ratio|\n",
      "+--------------+--------+-------------+------------------+\n",
      "|      Personal|   75641|        32318|             42.73|\n",
      "|          Work|    3689|          784|             21.25|\n",
      "+--------------+--------+-------------+------------------+\n",
      "\n"
     ]
    },
    {
     "data": {
      "text/markdown": [
       "Number of cancellations, traveling with children vs. not:"
      ],
      "text/plain": [
       "<IPython.core.display.Markdown object>"
      ]
     },
     "metadata": {},
     "output_type": "display_data"
    },
    {
     "name": "stdout",
     "output_type": "stream",
     "text": [
      "+---------+-----+-----+\n",
      "| Children|Count|Ratio|\n",
      "+---------+-----+-----+\n",
      "|  No Kids|31236|94.36|\n",
      "|With Kids| 1866| 5.64|\n",
      "+---------+-----+-----+\n",
      "\n",
      "+---------+--------+-------------+------------------+\n",
      "| Children|Bookings|Cancellations|Cancellation Ratio|\n",
      "+---------+--------+-------------+------------------+\n",
      "|  No Kids|   73923|        31236|             42.25|\n",
      "|With Kids|    5407|         1866|             34.51|\n",
      "+---------+--------+-------------+------------------+\n",
      "\n"
     ]
    }
   ],
   "source": [
    "totalcancelledCity = hotelsDF.where((col(\"is_canceled\")==1) & (col(\"hotel\") == \"City Hotel\")).count()\n",
    "\n",
    "# lead time <= 7 days, 1 week\n",
    "# lead time between 7 and 90 days, within 3 months\n",
    "# lead time between 90 and 180 days, within 6 months\n",
    "# lead time between 180 and 365 days, within a year\n",
    "# lead time of more than 365 days, more than 1 year\n",
    "display(Markdown(\"Number of cancellations based on how much in advance the booking was made:\"))\n",
    "leadTimeDF = hotelsDF\\\n",
    "   .withColumn(\"booking_time\", when(col(\"lead_time\")<=7,\"Within 1 Week\")\\\n",
    "                               .when((col(\"lead_time\")>7) & (col(\"lead_time\")<=90),\"Within 3 Months\")\\\n",
    "                               .when((col(\"lead_time\")>90) & (col(\"lead_time\")<=180),\"Within 6 Months\")\\\n",
    "                               .when((col(\"lead_time\")>180) & (col(\"lead_time\")<=365),\"Within 1 Year\")\\\n",
    "                               .otherwise(\"More than 1 Year\"))\n",
    "\n",
    "leadTimeDF.cache()\n",
    "\n",
    "leadTimeDF.where((col(\"is_canceled\")==1) & (col(\"hotel\") == \"City Hotel\"))\\\n",
    ".select(\"booking_time\")\\\n",
    ".groupBy(\"booking_time\")\\\n",
    ".agg(count(\"booking_time\").alias(\"Cancellations\"), \\\n",
    "     (count(\"booking_time\")/totalcancelledCity*100).alias(\"Ratio\"))\\\n",
    ".orderBy(col(\"Ratio\").desc())\\\n",
    "     .select(\"booking_time\",\"Cancellations\",round(\"Ratio\",2).alias(\"Ratio\")).show()\n",
    "\n",
    "# Improved code\n",
    "leadTimeDF.where(col(\"hotel\") == \"City Hotel\")\\\n",
    ".select(\"booking_time\", \"is_canceled\")\\\n",
    ".groupby(\"booking_time\")\\\n",
    ".agg(count(lit(1)).alias(\"Bookings\"),\\\n",
    "    sum(\"is_canceled\").alias(\"Cancellations\"))\\\n",
    ".withColumn(\"Cancellation Ratio\", round(col(\"Cancellations\")/col(\"Bookings\")*100,2))\\\n",
    ".orderBy(col(\"Cancellation Ratio\").desc())\\\n",
    "     .select(\"booking_time\",\"Bookings\",\"Cancellations\", \"Cancellation Ratio\").show()\n",
    "\n",
    "display(Markdown(\"Number of cancellations based on deposit type:\"))\n",
    "hotelsDF.where((col(\"is_canceled\")==1) & (col(\"hotel\") == \"City Hotel\"))\\\n",
    ".select(\"deposit_type\")\\\n",
    ".groupBy(\"deposit_type\")\\\n",
    ".agg(count(\"deposit_type\").alias(\"Cancellations\"), \\\n",
    "     (count(\"deposit_type\")/totalcancelledCity*100).alias(\"Ratio\"))\\\n",
    ".orderBy(col(\"Ratio\").desc())\\\n",
    "     .select(\"deposit_type\",\"Cancellations\",round(\"Ratio\",2).alias(\"Ratio\")).show()\n",
    "\n",
    "# Improved code\n",
    "hotelsDF.where(col(\"hotel\") == \"City Hotel\")\\\n",
    ".select(\"deposit_type\", \"is_canceled\")\\\n",
    ".groupby(\"deposit_type\")\\\n",
    ".agg(count(lit(1)).alias(\"Bookings\"),\\\n",
    "    sum(\"is_canceled\").alias(\"Cancellations\"))\\\n",
    ".withColumn(\"Cancellation Ratio\", round(col(\"Cancellations\")/col(\"Bookings\")*100,2))\\\n",
    ".orderBy(col(\"Cancellation Ratio\").desc())\\\n",
    "     .select(\"deposit_type\",\"Bookings\",\"Cancellations\", \"Cancellation Ratio\").show()\n",
    "\n",
    "display(Markdown(\"Number of cancellations, new vs. returning customer:\"))\n",
    "guestDF = hotelsDF\\\n",
    "   .withColumn(\"Customer Type\", when(col(\"is_repeated_guest\")==1,\"Returning Customer\")\\\n",
    "                               .otherwise(\"New Customer\"))\n",
    "\n",
    "guestDF.where((col(\"is_canceled\")==1) & (col(\"hotel\") == \"City Hotel\"))\\\n",
    ".select(\"Customer Type\")\\\n",
    ".groupBy(\"Customer Type\")\\\n",
    ".agg(count(\"Customer Type\").alias(\"Count\"), \\\n",
    "     (count(\"Customer Type\")/totalcancelledCity*100).alias(\"Ratio\"))\\\n",
    ".orderBy(col(\"Ratio\").desc())\\\n",
    "     .select(\"Customer Type\",\"Count\",round(\"Ratio\",2).alias(\"Ratio\")).show()\n",
    "\n",
    "# Improved code\n",
    "guestDF.where(col(\"hotel\") == \"City Hotel\")\\\n",
    ".select(\"Customer Type\", \"is_canceled\")\\\n",
    ".groupby(\"Customer Type\")\\\n",
    ".agg(count(lit(1)).alias(\"Bookings\"),\\\n",
    "    sum(\"is_canceled\").alias(\"Cancellations\"))\\\n",
    ".withColumn(\"Cancellation Ratio\", round(col(\"Cancellations\")/col(\"Bookings\")*100,2))\\\n",
    ".orderBy(col(\"Cancellation Ratio\").desc())\\\n",
    "     .select(\"Customer Type\",\"Bookings\",\"Cancellations\", \"Cancellation Ratio\").show()\n",
    "\n",
    "# if \"company\" column does not have a company code and is therefore empty, consider as personal travel\n",
    "display(Markdown(\"Number of cancellations, traveling for leisure vs. work:\"))\n",
    "companyDF = hotelsDF\\\n",
    "   .withColumn(\"Booking Reason\", when(col(\"company\")==\"NULL\",\"Personal\")\\\n",
    "                               .otherwise(\"Work\"))\n",
    "\n",
    "companyDF.where((col(\"is_canceled\")==1) & (col(\"hotel\") == \"City Hotel\"))\\\n",
    ".select(\"Booking Reason\")\\\n",
    ".groupBy(\"Booking Reason\")\\\n",
    ".agg(count(\"Booking Reason\").alias(\"Count\"), \\\n",
    "     (count(\"Booking Reason\")/totalcancelledCity*100).alias(\"Ratio\"))\\\n",
    ".orderBy(col(\"Ratio\").desc())\\\n",
    "     .select(\"Booking Reason\",\"Count\",round(\"Ratio\",2).alias(\"Ratio\")).show()\n",
    "\n",
    "# Improved code\n",
    "companyDF.where(col(\"hotel\") == \"City Hotel\")\\\n",
    ".select(\"Booking Reason\", \"is_canceled\")\\\n",
    ".groupby(\"Booking Reason\")\\\n",
    ".agg(count(lit(1)).alias(\"Bookings\"),\\\n",
    "    sum(\"is_canceled\").alias(\"Cancellations\"))\\\n",
    ".withColumn(\"Cancellation Ratio\", round(col(\"Cancellations\")/col(\"Bookings\")*100,2))\\\n",
    ".orderBy(col(\"Cancellation Ratio\").desc())\\\n",
    "     .select(\"Booking Reason\",\"Bookings\",\"Cancellations\", \"Cancellation Ratio\").show()\n",
    "\n",
    "# Columns \"children\" and \"babies\" are 0, consider no kids, otherwise with kids\n",
    "# There are 3 rows wtih NAs for \"children\" column, have chosen to not include those.\n",
    "display(Markdown(\"Number of cancellations, traveling with children vs. not:\"))\n",
    "childrenDF = hotelsDF\\\n",
    "   .withColumn(\"Children\", when((col(\"children\")==0) & (col(\"babies\")==0),\"No Kids\")\\\n",
    "                               .otherwise(\"With Kids\"))\n",
    "\n",
    "childrenDF.where((col(\"is_canceled\")==1) & (col(\"hotel\") == \"City Hotel\"))\\\n",
    ".select(\"Children\")\\\n",
    ".groupBy(\"Children\")\\\n",
    ".agg(count(\"Children\").alias(\"Count\"), \\\n",
    "     (count(\"Children\")/totalcancelledCity*100).alias(\"Ratio\"))\\\n",
    ".orderBy(col(\"Ratio\").desc())\\\n",
    "     .select(\"Children\",\"Count\",round(\"Ratio\",2).alias(\"Ratio\")).show()\n",
    "\n",
    "# Improved code\n",
    "childrenDF.where(col(\"hotel\") == \"City Hotel\")\\\n",
    ".select(\"Children\", \"is_canceled\")\\\n",
    ".groupby(\"Children\")\\\n",
    ".agg(count(lit(1)).alias(\"Bookings\"),\\\n",
    "    sum(\"is_canceled\").alias(\"Cancellations\"))\\\n",
    ".withColumn(\"Cancellation Ratio\", round(col(\"Cancellations\")/col(\"Bookings\")*100,2))\\\n",
    ".orderBy(col(\"Cancellation Ratio\").desc())\\\n",
    "     .select(\"Children\",\"Bookings\",\"Cancellations\", \"Cancellation Ratio\").show()"
   ]
  },
  {
   "cell_type": "markdown",
   "metadata": {},
   "source": [
    "## Cancellation Analysis - Resort Hotel"
   ]
  },
  {
   "cell_type": "code",
   "execution_count": 30,
   "metadata": {},
   "outputs": [
    {
     "data": {
      "text/markdown": [
       "Number of cancellations ratio per region:"
      ],
      "text/plain": [
       "<IPython.core.display.Markdown object>"
      ]
     },
     "metadata": {},
     "output_type": "display_data"
    },
    {
     "name": "stdout",
     "output_type": "stream",
     "text": [
      "+--------+-------------+------------------+------------------+\n",
      "|  region|Booking Count|Cancellation Count|Cancellation Ratio|\n",
      "+--------+-------------+------------------+------------------+\n",
      "|  Africa|          174|                61|             35.06|\n",
      "|  Europe|        37177|             10632|              28.6|\n",
      "|    Asia|          384|                79|             20.57|\n",
      "|Americas|         1048|               193|             18.42|\n",
      "| Oceania|          103|                16|             15.53|\n",
      "+--------+-------------+------------------+------------------+\n",
      "\n",
      "+--------+--------+-------------+------------------+\n",
      "|  region|Bookings|Cancellations|Cancellation Ratio|\n",
      "+--------+--------+-------------+------------------+\n",
      "|  Europe|   37177|        10632|              28.6|\n",
      "|Americas|    1048|          193|             18.42|\n",
      "|    Asia|     384|           79|             20.57|\n",
      "|  Africa|     174|           61|             35.06|\n",
      "| Oceania|     103|           16|             15.53|\n",
      "+--------+--------+-------------+------------------+\n",
      "\n"
     ]
    }
   ],
   "source": [
    "BookingbyRegion = combinedDF.where(col(\"hotel\") == \"Resort Hotel\")\\\n",
    ".select(\"region\")\\\n",
    ".groupBy(\"region\")\\\n",
    ".agg(count(\"region\").alias(\"Booking Count\")) \\\n",
    ".orderBy(col(\"Booking Count\").desc())\\\n",
    "     .select(\"region\",\"Booking Count\")\n",
    "\n",
    "CancellationbyRegion = combinedDF.where((col(\"is_canceled\")==1) & (col(\"hotel\") == \"Resort Hotel\"))\\\n",
    ".select(\"region\")\\\n",
    ".groupBy(\"region\")\\\n",
    ".agg(count(\"region\").alias(\"Cancellation Count\")) \\\n",
    ".orderBy(col(\"Cancellation Count\").desc())\\\n",
    "     .select(\"region\",\"Cancellation Count\")\n",
    "\n",
    "display(Markdown(\"Number of cancellations ratio per region:\"))\n",
    "BookingbyRegion\\\n",
    ".join(CancellationbyRegion, \"region\")\\\n",
    ".withColumn(\"Cancellation Ratio\", round(col(\"Cancellation Count\")/col(\"Booking Count\")*100,2))\\\n",
    ".orderBy(col(\"Cancellation Ratio\").desc()).show()\n",
    "\n",
    "# Improved code\n",
    "combinedDF.where(col(\"hotel\") == \"Resort Hotel\")\\\n",
    ".select(\"region\", \"is_canceled\")\\\n",
    ".groupby(\"region\")\\\n",
    ".agg(count(lit(1)).alias(\"Bookings\"),\\\n",
    "    sum(\"is_canceled\").alias(\"Cancellations\"))\\\n",
    ".withColumn(\"Cancellation Ratio\", round(col(\"Cancellations\")/col(\"Bookings\")*100,2))\\\n",
    ".orderBy(col(\"Bookings\").desc())\\\n",
    "     .select(\"region\",\"Bookings\",\"Cancellations\", \"Cancellation Ratio\").show()"
   ]
  },
  {
   "cell_type": "code",
   "execution_count": 31,
   "metadata": {},
   "outputs": [
    {
     "data": {
      "text/markdown": [
       "Number of cancellations based on how much in advance the booking was made:"
      ],
      "text/plain": [
       "<IPython.core.display.Markdown object>"
      ]
     },
     "metadata": {},
     "output_type": "display_data"
    },
    {
     "name": "stdout",
     "output_type": "stream",
     "text": [
      "+----------------+-------------+-----+\n",
      "|    booking_time|Cancellations|Ratio|\n",
      "+----------------+-------------+-----+\n",
      "| Within 3 Months|         4244|38.16|\n",
      "| Within 6 Months|         3075|27.65|\n",
      "|   Within 1 Year|         3013|27.09|\n",
      "|   Within 1 Week|          583| 5.24|\n",
      "|More than 1 Year|          207| 1.86|\n",
      "+----------------+-------------+-----+\n",
      "\n",
      "+----------------+--------+-------------+------------------+\n",
      "|    booking_time|Bookings|Cancellations|Cancellation Ratio|\n",
      "+----------------+--------+-------------+------------------+\n",
      "|More than 1 Year|     444|          207|             46.62|\n",
      "|   Within 1 Year|    7300|         3013|             41.27|\n",
      "| Within 6 Months|    8216|         3075|             37.43|\n",
      "| Within 3 Months|   15162|         4244|             27.99|\n",
      "|   Within 1 Week|    8938|          583|              6.52|\n",
      "+----------------+--------+-------------+------------------+\n",
      "\n"
     ]
    },
    {
     "data": {
      "text/markdown": [
       "Number of cancellations based on deposit type:"
      ],
      "text/plain": [
       "<IPython.core.display.Markdown object>"
      ]
     },
     "metadata": {},
     "output_type": "display_data"
    },
    {
     "name": "stdout",
     "output_type": "stream",
     "text": [
      "+------------+-------------+-----+\n",
      "|deposit_type|Cancellations|Ratio|\n",
      "+------------+-------------+-----+\n",
      "|  No Deposit|         9450|84.97|\n",
      "|  Non Refund|         1650|14.84|\n",
      "|  Refundable|           22|  0.2|\n",
      "+------------+-------------+-----+\n",
      "\n",
      "+------------+--------+-------------+------------------+\n",
      "|deposit_type|Bookings|Cancellations|Cancellation Ratio|\n",
      "+------------+--------+-------------+------------------+\n",
      "|  Non Refund|    1719|         1650|             95.99|\n",
      "|  No Deposit|   38199|         9450|             24.74|\n",
      "|  Refundable|     142|           22|             15.49|\n",
      "+------------+--------+-------------+------------------+\n",
      "\n"
     ]
    },
    {
     "data": {
      "text/markdown": [
       "Number of cancellations, new vs. returning customer:"
      ],
      "text/plain": [
       "<IPython.core.display.Markdown object>"
      ]
     },
     "metadata": {},
     "output_type": "display_data"
    },
    {
     "name": "stdout",
     "output_type": "stream",
     "text": [
      "+------------------+-----+-----+\n",
      "|     Customer Type|Count|Ratio|\n",
      "+------------------+-----+-----+\n",
      "|      New Customer|11011| 99.0|\n",
      "|Returning Customer|  111|  1.0|\n",
      "+------------------+-----+-----+\n",
      "\n",
      "+------------------+--------+-------------+------------------+\n",
      "|     Customer Type|Bookings|Cancellations|Cancellation Ratio|\n",
      "+------------------+--------+-------------+------------------+\n",
      "|      New Customer|   38282|        11011|             28.76|\n",
      "|Returning Customer|    1778|          111|              6.24|\n",
      "+------------------+--------+-------------+------------------+\n",
      "\n"
     ]
    },
    {
     "data": {
      "text/markdown": [
       "Number of cancellations, traveling for leisure vs. work:"
      ],
      "text/plain": [
       "<IPython.core.display.Markdown object>"
      ]
     },
     "metadata": {},
     "output_type": "display_data"
    },
    {
     "name": "stdout",
     "output_type": "stream",
     "text": [
      "+--------------+-----+-----+\n",
      "|Booking Reason|Count|Ratio|\n",
      "+--------------+-----+-----+\n",
      "|      Personal|10715|96.34|\n",
      "|          Work|  407| 3.66|\n",
      "+--------------+-----+-----+\n",
      "\n",
      "+--------------+--------+-------------+------------------+\n",
      "|Booking Reason|Bookings|Cancellations|Cancellation Ratio|\n",
      "+--------------+--------+-------------+------------------+\n",
      "|      Personal|   36952|        10715|              29.0|\n",
      "|          Work|    3108|          407|              13.1|\n",
      "+--------------+--------+-------------+------------------+\n",
      "\n"
     ]
    },
    {
     "data": {
      "text/markdown": [
       "Number of cancellations, traveling with children vs. not:"
      ],
      "text/plain": [
       "<IPython.core.display.Markdown object>"
      ]
     },
     "metadata": {},
     "output_type": "display_data"
    },
    {
     "name": "stdout",
     "output_type": "stream",
     "text": [
      "+---------+-----+-----+\n",
      "| Children|Count|Ratio|\n",
      "+---------+-----+-----+\n",
      "|  No Kids| 9725|87.44|\n",
      "|With Kids| 1397|12.56|\n",
      "+---------+-----+-----+\n",
      "\n",
      "+---------+--------+-------------+------------------+\n",
      "| Children|Bookings|Cancellations|Cancellation Ratio|\n",
      "+---------+--------+-------------+------------------+\n",
      "|With Kids|    3929|         1397|             35.56|\n",
      "|  No Kids|   36131|         9725|             26.92|\n",
      "+---------+--------+-------------+------------------+\n",
      "\n"
     ]
    }
   ],
   "source": [
    "totalcancelledResort = hotelsDF.where((col(\"is_canceled\")==1) & (col(\"hotel\") == \"Resort Hotel\")).count()\n",
    "\n",
    "# lead time <= 7 days, 1 week\n",
    "# lead time between 7 and 90 days, within 3 months\n",
    "# lead time between 90 and 180 days, within 6 months\n",
    "# lead time between 180 and 365 days, within a year\n",
    "# lead time of more than 365 days, more than 1 year\n",
    "display(Markdown(\"Number of cancellations based on how much in advance the booking was made:\"))\n",
    "leadTimeDF = hotelsDF\\\n",
    "   .withColumn(\"booking_time\", when(col(\"lead_time\")<=7,\"Within 1 Week\")\\\n",
    "                               .when((col(\"lead_time\")>7) & (col(\"lead_time\")<=90),\"Within 3 Months\")\\\n",
    "                               .when((col(\"lead_time\")>90) & (col(\"lead_time\")<=180),\"Within 6 Months\")\\\n",
    "                               .when((col(\"lead_time\")>180) & (col(\"lead_time\")<=365),\"Within 1 Year\")\\\n",
    "                               .otherwise(\"More than 1 Year\"))\n",
    "\n",
    "leadTimeDF.cache()\n",
    "\n",
    "leadTimeDF.where((col(\"is_canceled\")==1) & (col(\"hotel\") == \"Resort Hotel\"))\\\n",
    ".select(\"booking_time\")\\\n",
    ".groupBy(\"booking_time\")\\\n",
    ".agg(count(\"booking_time\").alias(\"Cancellations\"), \\\n",
    "     (count(\"booking_time\")/totalcancelledResort*100).alias(\"Ratio\"))\\\n",
    ".orderBy(col(\"Ratio\").desc())\\\n",
    "     .select(\"booking_time\",\"Cancellations\",round(\"Ratio\",2).alias(\"Ratio\")).show()\n",
    "\n",
    "# Improved code\n",
    "leadTimeDF.where(col(\"hotel\") == \"Resort Hotel\")\\\n",
    ".select(\"booking_time\", \"is_canceled\")\\\n",
    ".groupby(\"booking_time\")\\\n",
    ".agg(count(lit(1)).alias(\"Bookings\"),\\\n",
    "    sum(\"is_canceled\").alias(\"Cancellations\"))\\\n",
    ".withColumn(\"Cancellation Ratio\", round(col(\"Cancellations\")/col(\"Bookings\")*100,2))\\\n",
    ".orderBy(col(\"Cancellation Ratio\").desc())\\\n",
    "     .select(\"booking_time\",\"Bookings\",\"Cancellations\", \"Cancellation Ratio\").show()\n",
    "\n",
    "display(Markdown(\"Number of cancellations based on deposit type:\"))\n",
    "hotelsDF.where((col(\"is_canceled\")==1) & (col(\"hotel\") == \"Resort Hotel\"))\\\n",
    ".select(\"deposit_type\")\\\n",
    ".groupBy(\"deposit_type\")\\\n",
    ".agg(count(\"deposit_type\").alias(\"Cancellations\"), \\\n",
    "     (count(\"deposit_type\")/totalcancelledResort*100).alias(\"Ratio\"))\\\n",
    ".orderBy(col(\"Ratio\").desc())\\\n",
    "     .select(\"deposit_type\",\"Cancellations\",round(\"Ratio\",2).alias(\"Ratio\")).show()\n",
    "\n",
    "# Improved code\n",
    "hotelsDF.where(col(\"hotel\") == \"Resort Hotel\")\\\n",
    ".select(\"deposit_type\", \"is_canceled\")\\\n",
    ".groupby(\"deposit_type\")\\\n",
    ".agg(count(lit(1)).alias(\"Bookings\"),\\\n",
    "    sum(\"is_canceled\").alias(\"Cancellations\"))\\\n",
    ".withColumn(\"Cancellation Ratio\", round(col(\"Cancellations\")/col(\"Bookings\")*100,2))\\\n",
    ".orderBy(col(\"Cancellation Ratio\").desc())\\\n",
    "     .select(\"deposit_type\",\"Bookings\",\"Cancellations\", \"Cancellation Ratio\").show()\n",
    "\n",
    "display(Markdown(\"Number of cancellations, new vs. returning customer:\"))\n",
    "guestDF = hotelsDF\\\n",
    "   .withColumn(\"Customer Type\", when(col(\"is_repeated_guest\")==1,\"Returning Customer\")\\\n",
    "                               .otherwise(\"New Customer\"))\n",
    "\n",
    "guestDF.where((col(\"is_canceled\")==1) & (col(\"hotel\") == \"Resort Hotel\"))\\\n",
    ".select(\"Customer Type\")\\\n",
    ".groupBy(\"Customer Type\")\\\n",
    ".agg(count(\"Customer Type\").alias(\"Count\"), \\\n",
    "     (count(\"Customer Type\")/totalcancelledResort*100).alias(\"Ratio\"))\\\n",
    ".orderBy(col(\"Ratio\").desc())\\\n",
    "     .select(\"Customer Type\",\"Count\",round(\"Ratio\",2).alias(\"Ratio\")).show()\n",
    "\n",
    "# Improved code\n",
    "guestDF.where(col(\"hotel\") == \"Resort Hotel\")\\\n",
    ".select(\"Customer Type\", \"is_canceled\")\\\n",
    ".groupby(\"Customer Type\")\\\n",
    ".agg(count(lit(1)).alias(\"Bookings\"),\\\n",
    "    sum(\"is_canceled\").alias(\"Cancellations\"))\\\n",
    ".withColumn(\"Cancellation Ratio\", round(col(\"Cancellations\")/col(\"Bookings\")*100,2))\\\n",
    ".orderBy(col(\"Cancellation Ratio\").desc())\\\n",
    "     .select(\"Customer Type\",\"Bookings\",\"Cancellations\", \"Cancellation Ratio\").show()\n",
    "\n",
    "# if \"company\" column does not have a company code and is therefore empty, consider as personal travel\n",
    "display(Markdown(\"Number of cancellations, traveling for leisure vs. work:\"))\n",
    "companyDF = hotelsDF\\\n",
    "   .withColumn(\"Booking Reason\", when(col(\"company\")==\"NULL\",\"Personal\")\\\n",
    "                               .otherwise(\"Work\"))\n",
    "\n",
    "companyDF.where((col(\"is_canceled\")==1) & (col(\"hotel\") == \"Resort Hotel\"))\\\n",
    ".select(\"Booking Reason\")\\\n",
    ".groupBy(\"Booking Reason\")\\\n",
    ".agg(count(\"Booking Reason\").alias(\"Count\"), \\\n",
    "     (count(\"Booking Reason\")/totalcancelledResort*100).alias(\"Ratio\"))\\\n",
    ".orderBy(col(\"Ratio\").desc())\\\n",
    "     .select(\"Booking Reason\",\"Count\",round(\"Ratio\",2).alias(\"Ratio\")).show()\n",
    "\n",
    "# Improved code\n",
    "companyDF.where(col(\"hotel\") == \"Resort Hotel\")\\\n",
    ".select(\"Booking Reason\", \"is_canceled\")\\\n",
    ".groupby(\"Booking Reason\")\\\n",
    ".agg(count(lit(1)).alias(\"Bookings\"),\\\n",
    "    sum(\"is_canceled\").alias(\"Cancellations\"))\\\n",
    ".withColumn(\"Cancellation Ratio\", round(col(\"Cancellations\")/col(\"Bookings\")*100,2))\\\n",
    ".orderBy(col(\"Cancellation Ratio\").desc())\\\n",
    "     .select(\"Booking Reason\",\"Bookings\",\"Cancellations\", \"Cancellation Ratio\").show()\n",
    "\n",
    "# Columns \"children\" and \"babies\" are 0, consider no kids, otherwise with kids\n",
    "# There are 3 rows wtih NAs for \"children\" column, have chosen to not include those.\n",
    "display(Markdown(\"Number of cancellations, traveling with children vs. not:\"))\n",
    "childrenDF = hotelsDF\\\n",
    "   .withColumn(\"Children\", when((col(\"children\")==0) & (col(\"babies\")==0),\"No Kids\")\\\n",
    "                               .otherwise(\"With Kids\"))\n",
    "\n",
    "childrenDF.where((col(\"is_canceled\")==1) & (col(\"hotel\") == \"Resort Hotel\"))\\\n",
    ".select(\"Children\")\\\n",
    ".groupBy(\"Children\")\\\n",
    ".agg(count(\"Children\").alias(\"Count\"), \\\n",
    "     (count(\"Children\")/totalcancelledResort*100).alias(\"Ratio\"))\\\n",
    ".orderBy(col(\"Ratio\").desc())\\\n",
    "     .select(\"Children\",\"Count\",round(\"Ratio\",2).alias(\"Ratio\")).show()\n",
    "\n",
    "# Improved code\n",
    "childrenDF.where(col(\"hotel\") == \"Resort Hotel\")\\\n",
    ".select(\"Children\", \"is_canceled\")\\\n",
    ".groupby(\"Children\")\\\n",
    ".agg(count(lit(1)).alias(\"Bookings\"),\\\n",
    "    sum(\"is_canceled\").alias(\"Cancellations\"))\\\n",
    ".withColumn(\"Cancellation Ratio\", round(col(\"Cancellations\")/col(\"Bookings\")*100,2))\\\n",
    ".orderBy(col(\"Cancellation Ratio\").desc())\\\n",
    "     .select(\"Children\",\"Bookings\",\"Cancellations\", \"Cancellation Ratio\").show()"
   ]
  },
  {
   "cell_type": "code",
   "execution_count": null,
   "metadata": {},
   "outputs": [],
   "source": []
  }
 ],
 "metadata": {
  "kernelspec": {
   "display_name": "Python 3",
   "language": "python",
   "name": "python3"
  },
  "language_info": {
   "codemirror_mode": {
    "name": "ipython",
    "version": 3
   },
   "file_extension": ".py",
   "mimetype": "text/x-python",
   "name": "python",
   "nbconvert_exporter": "python",
   "pygments_lexer": "ipython3",
   "version": "3.7.3"
  }
 },
 "nbformat": 4,
 "nbformat_minor": 4
}
